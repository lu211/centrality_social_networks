{
 "cells": [
  {
   "cell_type": "markdown",
   "metadata": {},
   "source": [
    "# Simulation Zentralität und Prestige"
   ]
  },
  {
   "cell_type": "code",
   "execution_count": 158,
   "metadata": {
    "collapsed": true
   },
   "outputs": [],
   "source": [
    "# notwendige Importe\n",
    "import networkx as nx\n",
    "import pandas as pd\n",
    "import matplotlib.pyplot as plt\n",
    "%matplotlib inline"
   ]
  },
  {
   "cell_type": "markdown",
   "metadata": {},
   "source": [
    "## Sterngraphen zum testen der Funktionen"
   ]
  },
  {
   "cell_type": "code",
   "execution_count": 159,
   "metadata": {},
   "outputs": [
    {
     "data": {
      "image/png": "[encoded data removed]",
      "text/plain": [
       "<matplotlib.figure.Figure at 0x170ff3320b8>"
      ]
     },
     "metadata": {},
     "output_type": "display_data"
    }
   ],
   "source": [
    "# Einfacher Sterngaph\n",
    "G = nx.star_graph(6)\n",
    "   \n",
    "# Graph anzeigen\n",
    "nx.draw(G, node_color = 'green', with_labels = True);"
   ]
  },
  {
   "cell_type": "markdown",
   "metadata": {},
   "source": [
    "## Zentralität"
   ]
  },
  {
   "cell_type": "markdown",
   "metadata": {},
   "source": [
    "### Degree "
   ]
  },
  {
   "cell_type": "code",
   "execution_count": 160,
   "metadata": {},
   "outputs": [
    {
     "name": "stdout",
     "output_type": "stream",
     "text": [
      "Akteurs Degree: {0: 6, 1: 1, 2: 1, 3: 1, 4: 1, 5: 1, 6: 1}\n",
      "Standardisierte Akteurs Degree: {0: 1.0, 1: 0.16667, 2: 0.16667, 3: 0.16667, 4: 0.16667, 5: 0.16667, 6: 0.16667}\n"
     ]
    }
   ],
   "source": [
    "# Akteurs Degree\n",
    "def degree_list(graph):\n",
    "    C_d = dict()\n",
    "    for i in graph.nodes():\n",
    "        d_i = graph.degree(i)\n",
    "        C_d.update({i: d_i})\n",
    "    return C_d\n",
    "    \n",
    "print(\"Akteurs Degree:\", degree_list(G))\n",
    "\n",
    "# Std. Degree\n",
    "def standarized_degree_list(graph):\n",
    "    std_C_d = dict()\n",
    "    for i in graph.nodes():\n",
    "        std_d_i = round((graph.degree(i) / (len(graph.nodes()) - 1)), 5)\n",
    "        std_C_d.update({i: std_d_i})\n",
    "    return std_C_d\n",
    "\n",
    "print(\"Standardisierte Akteurs Degree:\", standarized_degree_list(G))"
   ]
  },
  {
   "cell_type": "code",
   "execution_count": 161,
   "metadata": {
    "scrolled": true
   },
   "outputs": [
    {
     "name": "stdout",
     "output_type": "stream",
     "text": [
      "Gruppen Degree: 1.0\n"
     ]
    }
   ],
   "source": [
    "# Gruppenbezogenes Degree\n",
    "g = len(G.nodes())\n",
    "\n",
    "def group_degree(graph, g):\n",
    "    C_d = degree_list(graph)\n",
    "    max_deg = max(C_d.values())\n",
    "    sum_deg = 0\n",
    "    for node, val in C_d.items():\n",
    "        value = max_deg - val\n",
    "        sum_deg += value\n",
    "    C_D = round((sum_deg/((g-1)*(g-2))),5)\n",
    "    return C_D\n",
    "\n",
    "print(\"Gruppen Degree:\", group_degree(G, g))"
   ]
  },
  {
   "cell_type": "markdown",
   "metadata": {},
   "source": [
    "### Closeness"
   ]
  },
  {
   "cell_type": "code",
   "execution_count": 162,
   "metadata": {},
   "outputs": [
    {
     "name": "stdout",
     "output_type": "stream",
     "text": [
      "Akteur Closeness: {0: 0.16667, 1: 0.09091, 2: 0.09091, 3: 0.09091, 4: 0.09091, 5: 0.09091, 6: 0.09091}\n",
      "Standardisierte Akteur Closeness: {0: 1.00002, 1: 0.54546, 2: 0.54546, 3: 0.54546, 4: 0.54546, 5: 0.54546, 6: 0.54546}\n"
     ]
    }
   ],
   "source": [
    "# Akteur Closeness\n",
    "def closeness(graph):\n",
    "    C_c = dict()\n",
    "    for i in graph.nodes():\n",
    "        length = nx.single_source_shortest_path_length(graph, i)\n",
    "        sum_length = sum(length.values())\n",
    "        if sum_length != 0:\n",
    "            C_c_i = round(((sum_length)**(-1)), 5)\n",
    "        else:\n",
    "            C_c_i = 0\n",
    "        C_c.update({i:C_c_i})\n",
    "    return C_c\n",
    "\n",
    "print(\"Akteur Closeness:\", closeness(G))\n",
    "\n",
    "# Std. Closeness\n",
    "def standardized_closeness(graph, g):\n",
    "    std_c_c = dict()\n",
    "    C_c = closeness(graph)\n",
    "    for node, val in C_c.items():\n",
    "        std_c_c_i = round(((g-1)*val), 5)\n",
    "        std_c_c.update({node:std_c_c_i})\n",
    "    return std_c_c\n",
    "    \n",
    "print(\"Standardisierte Akteur Closeness:\", standardized_closeness(G, g))"
   ]
  },
  {
   "cell_type": "code",
   "execution_count": 163,
   "metadata": {},
   "outputs": [
    {
     "name": "stdout",
     "output_type": "stream",
     "text": [
      "Gruppen Closeness: 1.00003\n"
     ]
    }
   ],
   "source": [
    "# Gruppenbezogene Closeness\n",
    "def group_closeness(graph, g):\n",
    "    max_clos = max(standardized_closeness(graph, g).values())\n",
    "    std_c_c = standardized_closeness(graph, g)\n",
    "    sum_clos = 0\n",
    "    for i in graph.nodes():\n",
    "        val = max_clos - std_c_c[i]\n",
    "        sum_clos += val\n",
    "    C_C = round((sum_clos/(((g-1)*(g-2))/(2*g-3))),5)\n",
    "    return C_C\n",
    "\n",
    "print(\"Gruppen Closeness:\", group_closeness(G, g))"
   ]
  },
  {
   "cell_type": "markdown",
   "metadata": {},
   "source": [
    "### Betweenness"
   ]
  },
  {
   "cell_type": "code",
   "execution_count": 164,
   "metadata": {},
   "outputs": [
    {
     "name": "stdout",
     "output_type": "stream",
     "text": [
      "Standardisierte Akteur Betweenness: {0: 0.06667, 1: 0.0, 2: 0.0, 3: 0.0, 4: 0.0, 5: 0.0, 6: 0.0}\n"
     ]
    }
   ],
   "source": [
    "# Std. Betweeness\n",
    "def standardized_betweeness(graph, g):\n",
    "    # Akteur Betweeness (hier direkt aus Package genommen da gleich berechnet)\n",
    "    between = nx.betweenness_centrality(graph)\n",
    "    std_c_b = dict()\n",
    "    for i in graph.nodes(): \n",
    "        std_c_b_i = round((between[i]/(((g-1)*(g-2))/2)), 5)\n",
    "        std_c_b.update({i:std_c_b_i})\n",
    "    return std_c_b\n",
    "\n",
    "print(\"Standardisierte Akteur Betweenness:\", standardized_betweeness(G, g))"
   ]
  },
  {
   "cell_type": "code",
   "execution_count": 165,
   "metadata": {},
   "outputs": [
    {
     "name": "stdout",
     "output_type": "stream",
     "text": [
      "Gruppen Betweenness: 0.06667\n"
     ]
    }
   ],
   "source": [
    "# Gruppenbezogene Betweeness\n",
    "def group_betweenness(graph, g):\n",
    "    std_between = standardized_betweeness(graph, g)\n",
    "    max_between = max(standardized_betweeness(graph, g).values())\n",
    "    sum_bet = 0\n",
    "    for i in graph.nodes():\n",
    "        val = max_between - std_between[i]\n",
    "        sum_bet += val\n",
    "    C_B = round(((sum_bet)/(g-1)), 5)\n",
    "    return C_B\n",
    "\n",
    "print(\"Gruppen Betweenness:\", group_betweenness(G, g))"
   ]
  },
  {
   "cell_type": "markdown",
   "metadata": {},
   "source": [
    "## Prestige\n",
    "### Gerichtetes Netzwerk erstellen (ähnlich Sterngraph für Kontrolle)"
   ]
  },
  {
   "cell_type": "code",
   "execution_count": 166,
   "metadata": {},
   "outputs": [
    {
     "data": {
      "image/png": "[encoded data removed]",
      "text/plain": [
       "<matplotlib.figure.Figure at 0x170fa1776a0>"
      ]
     },
     "metadata": {},
     "output_type": "display_data"
    }
   ],
   "source": [
    "graph = {0: [],\n",
    "         1: [0, 2],\n",
    "         2: [0, 3],\n",
    "         3: [0, 4],\n",
    "         4: [0, 5],\n",
    "         5: [0, 6],\n",
    "         6: [0, 1]}\n",
    "\n",
    "\n",
    "DG = nx.DiGraph(graph)\n",
    "\n",
    "nx.draw_spectral(DG, node_color='y', with_labels=True)\n",
    "\n",
    "# g initialisieren (Anzahl der vorhandenen Knoten)\n",
    "dg = len(DG.nodes())"
   ]
  },
  {
   "cell_type": "markdown",
   "metadata": {},
   "source": [
    "### Degree"
   ]
  },
  {
   "cell_type": "code",
   "execution_count": 167,
   "metadata": {},
   "outputs": [
    {
     "name": "stdout",
     "output_type": "stream",
     "text": [
      "Prestige Degree: {0: 1.0, 1: 0.16667, 2: 0.16667, 3: 0.16667, 4: 0.16667, 5: 0.16667, 6: 0.16667}\n"
     ]
    }
   ],
   "source": [
    "def prestige_degree(diGraph, dg):\n",
    "    prest = dict()\n",
    "    for i in diGraph.nodes():\n",
    "        deg = round((diGraph.in_degree[i]/(dg-1)),5)\n",
    "        prest.update({i : deg})\n",
    "    return prest\n",
    "\n",
    "print(\"Prestige Degree:\", prestige_degree(DG, dg))"
   ]
  },
  {
   "cell_type": "markdown",
   "metadata": {},
   "source": [
    "### Nachbarschaft"
   ]
  },
  {
   "cell_type": "code",
   "execution_count": 168,
   "metadata": {},
   "outputs": [
    {
     "name": "stdout",
     "output_type": "stream",
     "text": [
      "I: {0: 6, 1: 1, 2: 1, 3: 1, 4: 1, 5: 1, 6: 1}\n",
      "Durschnittliche Distanz von Akteur i: {0: 1.0, 1: 1.0, 2: 1.0, 3: 1.0, 4: 1.0, 5: 1.0, 6: 1.0}\n",
      "Nachbarschafts Prestige: {0: 1.0, 1: 0.16667, 2: 0.16667, 3: 0.16667, 4: 0.16667, 5: 0.16667, 6: 0.16667}\n"
     ]
    }
   ],
   "source": [
    "## Vorbereitung um Nachbarschaft zu berechnen\n",
    "# I\n",
    "def prestige_I(diGraph):\n",
    "    neigh = dict()\n",
    "    for i in diGraph.nodes():\n",
    "        I = [n for n in diGraph.neighbors(i)]\n",
    "        neigh.update({i: I})\n",
    "\n",
    "    influence = dict()\n",
    "    for i in diGraph.nodes():\n",
    "        can_reach_i = list()\n",
    "        for node, val in neigh.items():\n",
    "            if i in val:\n",
    "                can_reach_i.append(node)\n",
    "        influence.update({i: len(can_reach_i)})\n",
    "    return influence\n",
    "\n",
    "\n",
    "# Durchschnittliche Akteursdistanz\n",
    "def mean_actor_distance(diGraph):\n",
    "    neigh = dict()\n",
    "    for i in diGraph.nodes():\n",
    "        I = [n for n in diGraph.neighbors(i)]\n",
    "        neigh.update({i: I})\n",
    "\n",
    "    influence = dict()\n",
    "    for i in diGraph.nodes():\n",
    "        can_reach_i = list()\n",
    "        for node, val in neigh.items():\n",
    "            if i in val:\n",
    "                can_reach_i.append(node)\n",
    "        influence.update({i: can_reach_i})\n",
    "\n",
    "    dist = dict()\n",
    "    for node, val in influence.items():\n",
    "        sum_distance = 0\n",
    "        if len(val) > 0:\n",
    "            for n in val:\n",
    "                length = nx.shortest_path_length(diGraph, source=n, target=node)\n",
    "                sum_distance += length\n",
    "                mean_val = round((sum_distance / len(val)), 5)\n",
    "        else:\n",
    "            mean_val = 0\n",
    "        dist.update({node: mean_val})\n",
    "    return dist\n",
    "\n",
    "## Akteur Nachbarschaft\n",
    "def nachbarschaft(diGraph, dg):\n",
    "    I = prestige_I(diGraph)\n",
    "    mean_dis = mean_actor_distance(diGraph)\n",
    "    P_P = dict()\n",
    "    for node, val in I.items():\n",
    "        for n2, val2 in mean_dis.items():\n",
    "            if node is n2:\n",
    "                if val2 != 0:\n",
    "                    P_p = round(((val / (dg - 1)) / val2), 5)\n",
    "                else:\n",
    "                    P_p = 0\n",
    "                P_P.update({node: P_p})\n",
    "    return P_P\n",
    "            \n",
    "print(\"I:\", prestige_I(DG))\n",
    "print(\"Durschnittliche Distanz von Akteur i:\", mean_actor_distance(DG))\n",
    "print(\"Nachbarschafts Prestige:\", nachbarschaft(DG, dg))"
   ]
  },
  {
   "cell_type": "code",
   "execution_count": 169,
   "metadata": {},
   "outputs": [
    {
     "name": "stdout",
     "output_type": "stream",
     "text": [
      "Gruppen Nachbarschafts Prestige: 0.28571714285714284\n"
     ]
    }
   ],
   "source": [
    "# Gruppenbezogne Nachbarschaft\n",
    "def group_nachbarschaft(diGraph, dg):\n",
    "    P_P = nachbarschaft(diGraph, dg)\n",
    "    group_p = 0\n",
    "    for node, val in P_P.items():\n",
    "        mean_p = val/dg\n",
    "        group_p += mean_p\n",
    "    return group_p\n",
    "\n",
    "print(\"Gruppen Nachbarschafts Prestige:\", group_nachbarschaft(DG, dg))"
   ]
  },
  {
   "cell_type": "markdown",
   "metadata": {},
   "source": [
    "## Zentralität für gerichtete Netzwerke \n",
    "    "
   ]
  },
  {
   "cell_type": "code",
   "execution_count": 170,
   "metadata": {},
   "outputs": [
    {
     "name": "stdout",
     "output_type": "stream",
     "text": [
      "Degree gerichteter Graph: {0: 0.0, 1: 0.33333, 2: 0.33333, 3: 0.33333, 4: 0.33333, 5: 0.33333, 6: 0.33333}\n",
      "Gruppendegree gerichteter Graph: 0.00926\n"
     ]
    }
   ],
   "source": [
    "# Degree\n",
    "def degree_digraph(diGraph, dg):\n",
    "    degree_di = dict()\n",
    "    for i in diGraph.nodes():\n",
    "        outdegree = diGraph.out_degree[i]\n",
    "        degree_i = round((outdegree/(dg-1)), 5)\n",
    "        degree_di.update({i: degree_i})\n",
    "    return degree_di\n",
    "        \n",
    "print(\"Degree gerichteter Graph:\", degree_digraph(DG, dg))\n",
    "\n",
    "# Gruppenbezogenes Degree\n",
    "def group_degree_digraph(diGraph, dg):\n",
    "    C_d = degree_digraph(diGraph, dg)\n",
    "    max_deg = max(C_d.values())\n",
    "    sum_deg = 0\n",
    "    for node, val in C_d.items():\n",
    "        value = max_deg - val\n",
    "        sum_deg += value\n",
    "    C_D = round((sum_deg/((dg-1)**2)),5)\n",
    "    return C_D\n",
    "\n",
    "print(\"Gruppendegree gerichteter Graph:\", group_degree_digraph(DG, dg))        "
   ]
  },
  {
   "cell_type": "code",
   "execution_count": 16,
   "metadata": {},
   "outputs": [
    {
     "data": {
      "text/plain": [
       "'# Closeness (MUSS AUSGEKLAMMERT WERDEN)\\ndef closeness_digraph(diGraph, dg):\\n    closesness_di = dict()\\n    for i in diGraph.nodes():\\n        di = nx.single_source_shortest_path_length(diGraph, i)\\n        sum_di = sum(di.values())\\n        if sum_di != 0:\\n            c_di = round(((dg-1)/sum_di), 5)\\n        else:\\n            c_di = 0\\n        closesness_di.update({i:c_di})\\n    return closesness_di\\n\\nprint(\"Closeness gerichteter Graph:\", closeness_digraph(DG, dg))'"
      ]
     },
     "execution_count": 16,
     "metadata": {},
     "output_type": "execute_result"
    }
   ],
   "source": [
    "'''# Closeness (MUSS AUSGEKLAMMERT WERDEN)\n",
    "def closeness_digraph(diGraph, dg):\n",
    "    closesness_di = dict()\n",
    "    for i in diGraph.nodes():\n",
    "        di = nx.single_source_shortest_path_length(diGraph, i)\n",
    "        sum_di = sum(di.values())\n",
    "        if sum_di != 0:\n",
    "            c_di = round(((dg-1)/sum_di), 5)\n",
    "        else:\n",
    "            c_di = 0\n",
    "        closesness_di.update({i:c_di})\n",
    "    return closesness_di\n",
    "\n",
    "print(\"Closeness gerichteter Graph:\", closeness_digraph(DG, dg))'''"
   ]
  },
  {
   "cell_type": "code",
   "execution_count": 171,
   "metadata": {
    "collapsed": true
   },
   "outputs": [],
   "source": [
    "# Vorarbeit Std. Closeness gerichteter Graph\n",
    "\n",
    "# Code gefunden auf https://www.geeksforgeeks.org/find-all-reachable-nodes-from-every-node-present-in-a-given-set/\n",
    "# er wurde lediglich für die hier genutzen Zwecke angepasst\n",
    "from collections import deque\n",
    " \n",
    "def addEdge(edgelist):\n",
    "    global visited, adj\n",
    "    for edge in edgelist:\n",
    "        if len(edge) == 2:\n",
    "            v = edge[0]\n",
    "            w = edge[1]\n",
    "            adj[v].append(w)\n",
    "        else:\n",
    "            print('Input is not an edgelist!')\n",
    " \n",
    "def BFS(componentNum, src):\n",
    "    global visited, adj\n",
    "     \n",
    "    # Mark all the vertices as not visited\n",
    "    # Create a queue for BFS\n",
    "    queue = deque()\n",
    "    queue.append(src)\n",
    "    # Assign Component Number\n",
    "    visited[src] = 1\n",
    "    # Vector to store all the reachable\n",
    "    # nodes from 'src'\n",
    "    reachableNodes = []\n",
    "    while (len(queue) > 0):\n",
    "        # Dequeue a vertex from queue\n",
    "        u = queue.popleft()\n",
    "        reachableNodes.append(u)\n",
    "        # Get all adjacent vertices of the dequeued\n",
    "        # vertex u. If a adjacent has not been visited,\n",
    "        # then mark it visited nd enqueue it\n",
    "        for itr in adj[u]:\n",
    "            if (visited[itr] == 0):\n",
    "                # Assign Component Number to all the\n",
    "                # reachable nodes\n",
    "                visited[itr] = 1\n",
    "                queue.append(itr)\n",
    " \n",
    "    return reachableNodes\n",
    " \n",
    "\n",
    "def findReachableNodes(arr, n):\n",
    "    global V, adj, visited\n",
    "    reachable = dict()\n",
    "    # Map to store list of reachable Nodes for a\n",
    "    # given node.\n",
    "    a = []\n",
    "    # Initialize component Number with 0\n",
    "    componentNum = 0\n",
    "    # For each node in arr[] find reachable\n",
    "    # Nodes\n",
    "    for i in range(n):\n",
    "        u = arr[i]\n",
    "        # Visit all the nodes of the component\n",
    "        if (visited[u] == 0):\n",
    "            componentNum += 1\n",
    "            # Store the reachable Nodes corresponding\n",
    "            # to the node 'i'\n",
    "            a = BFS(componentNum, u)\n",
    "        reachable.update({u:a})\n",
    "        \n",
    "    return(reachable)"
   ]
  },
  {
   "cell_type": "code",
   "execution_count": 172,
   "metadata": {},
   "outputs": [
    {
     "name": "stdout",
     "output_type": "stream",
     "text": [
      "Standartisierte Closeness Digraph: {0: 0, 1: 0.375, 2: 0.375, 3: 0.375, 4: 0.375, 5: 0.375, 6: 0.375}\n"
     ]
    }
   ],
   "source": [
    "# Standartisierte Closeness C*_C\n",
    "\n",
    "# Initialisieren\n",
    "V = len(DG.nodes())\n",
    "adj = [[] for i in range(V + 1)]\n",
    "visited = [0 for i in range(V + 1)]\n",
    "addEdge(DG.edges())\n",
    "arr = list(DG.nodes())\n",
    "n = len(arr)\n",
    "\n",
    "# Berechnen\n",
    "J = findReachableNodes(arr, n)\n",
    "\n",
    "std_close_di = dict()\n",
    "for i in DG.nodes():\n",
    "    di = nx.single_source_shortest_path_length(DG, i)\n",
    "    sum_di = sum(di.values())\n",
    "    j = list(J.values())\n",
    "    j_i = len(j[i])\n",
    "    if sum_di != 0:\n",
    "        std_c = round(((j_i/(dg-1))/((sum_di)/j_i)),5)\n",
    "    else:\n",
    "        std_c = 0\n",
    "    std_close_di.update({i:std_c})\n",
    "\n",
    "print(\"Standartisierte Closeness Digraph:\", std_close_di)"
   ]
  },
  {
   "cell_type": "markdown",
   "metadata": {},
   "source": [
    "# Simulationsnetzwerke"
   ]
  },
  {
   "cell_type": "markdown",
   "metadata": {},
   "source": [
    "## Ungerichtet"
   ]
  },
  {
   "cell_type": "code",
   "execution_count": 223,
   "metadata": {},
   "outputs": [],
   "source": [
    "# Cliquengraph\n",
    "SU = nx.gaussian_random_partition_graph(20, 4, 4, 0.5, 0.1)\n",
    "#SU = nx.connected_caveman_graph(4, 5)"
   ]
  },
  {
   "cell_type": "code",
   "execution_count": 226,
   "metadata": {},
   "outputs": [
    {
     "data": {
      "image/png": "[encoded data removed]",
      "text/plain": [
       "<matplotlib.figure.Figure at 0x170fe158d30>"
      ]
     },
     "metadata": {},
     "output_type": "display_data"
    }
   ],
   "source": [
    "nx.draw(SU, node_color='y', with_labels=True)\n",
    "\n",
    "size_SU = len(SU.nodes())"
   ]
  },
  {
   "cell_type": "code",
   "execution_count": 236,
   "metadata": {},
   "outputs": [
    {
     "name": "stdout",
     "output_type": "stream",
     "text": [
      "Gruppen Degree: 0.16374\n",
      "Gruppen Closeness: 0.35789\n",
      "Gruppen Betweenness: 0.00183\n"
     ]
    }
   ],
   "source": [
    "## Zentralitätsmaße \n",
    "# Akteursbezogen\n",
    "SU_degree = standarized_degree_list(SU)\n",
    "SU_closeness = standardized_closeness(SU, size_SU)\n",
    "SU_betweenness = standardized_betweeness(SU, size_SU)\n",
    "\n",
    "#print(\"Prestige Degree:\", prestige_degree(SU, size_SU))\n",
    "#print(\"Nachbarschafts Prestige:\", nachbarschaft(SU))\n",
    "\n",
    "# Gruppenbezogen\n",
    "print(\"Gruppen Degree:\", group_degree(SU, size_SU))\n",
    "print(\"Gruppen Closeness:\", group_closeness(SU, size_SU))\n",
    "print(\"Gruppen Betweenness:\", group_betweenness(SU, size_SU))"
   ]
  },
  {
   "cell_type": "code",
   "execution_count": 237,
   "metadata": {},
   "outputs": [
    {
     "data": {
      "text/html": [
       "<div>\n",
       "<style>\n",
       "    .dataframe thead tr:only-child th {\n",
       "        text-align: right;\n",
       "    }\n",
       "\n",
       "    .dataframe thead th {\n",
       "        text-align: left;\n",
       "    }\n",
       "\n",
       "    .dataframe tbody tr th {\n",
       "        vertical-align: top;\n",
       "    }\n",
       "</style>\n",
       "<table border=\"1\" class=\"dataframe\">\n",
       "  <thead>\n",
       "    <tr style=\"text-align: right;\">\n",
       "      <th></th>\n",
       "      <th>Betweenness</th>\n",
       "      <th>Closeness</th>\n",
       "      <th>Degree</th>\n",
       "    </tr>\n",
       "  </thead>\n",
       "  <tbody>\n",
       "    <tr>\n",
       "      <th>0</th>\n",
       "      <td>0.00000</td>\n",
       "      <td>0.00000</td>\n",
       "      <td>0.00000</td>\n",
       "    </tr>\n",
       "    <tr>\n",
       "      <th>1</th>\n",
       "      <td>0.00000</td>\n",
       "      <td>0.33326</td>\n",
       "      <td>0.05263</td>\n",
       "    </tr>\n",
       "    <tr>\n",
       "      <th>2</th>\n",
       "      <td>0.00072</td>\n",
       "      <td>0.35188</td>\n",
       "      <td>0.15789</td>\n",
       "    </tr>\n",
       "    <tr>\n",
       "      <th>3</th>\n",
       "      <td>0.00055</td>\n",
       "      <td>0.39577</td>\n",
       "      <td>0.15789</td>\n",
       "    </tr>\n",
       "    <tr>\n",
       "      <th>4</th>\n",
       "      <td>0.00041</td>\n",
       "      <td>0.39577</td>\n",
       "      <td>0.10526</td>\n",
       "    </tr>\n",
       "    <tr>\n",
       "      <th>5</th>\n",
       "      <td>0.00173</td>\n",
       "      <td>0.46341</td>\n",
       "      <td>0.21053</td>\n",
       "    </tr>\n",
       "    <tr>\n",
       "      <th>6</th>\n",
       "      <td>0.00007</td>\n",
       "      <td>0.31141</td>\n",
       "      <td>0.10526</td>\n",
       "    </tr>\n",
       "    <tr>\n",
       "      <th>7</th>\n",
       "      <td>0.00000</td>\n",
       "      <td>0.29222</td>\n",
       "      <td>0.05263</td>\n",
       "    </tr>\n",
       "    <tr>\n",
       "      <th>8</th>\n",
       "      <td>0.00082</td>\n",
       "      <td>0.39577</td>\n",
       "      <td>0.15789</td>\n",
       "    </tr>\n",
       "    <tr>\n",
       "      <th>9</th>\n",
       "      <td>0.00048</td>\n",
       "      <td>0.34542</td>\n",
       "      <td>0.10526</td>\n",
       "    </tr>\n",
       "    <tr>\n",
       "      <th>10</th>\n",
       "      <td>0.00000</td>\n",
       "      <td>0.26752</td>\n",
       "      <td>0.05263</td>\n",
       "    </tr>\n",
       "    <tr>\n",
       "      <th>11</th>\n",
       "      <td>0.00072</td>\n",
       "      <td>0.32756</td>\n",
       "      <td>0.15789</td>\n",
       "    </tr>\n",
       "    <tr>\n",
       "      <th>12</th>\n",
       "      <td>0.00065</td>\n",
       "      <td>0.37259</td>\n",
       "      <td>0.10526</td>\n",
       "    </tr>\n",
       "    <tr>\n",
       "      <th>13</th>\n",
       "      <td>0.00000</td>\n",
       "      <td>0.25327</td>\n",
       "      <td>0.05263</td>\n",
       "    </tr>\n",
       "    <tr>\n",
       "      <th>14</th>\n",
       "      <td>0.00232</td>\n",
       "      <td>0.51357</td>\n",
       "      <td>0.26316</td>\n",
       "    </tr>\n",
       "    <tr>\n",
       "      <th>15</th>\n",
       "      <td>0.00104</td>\n",
       "      <td>0.43187</td>\n",
       "      <td>0.15789</td>\n",
       "    </tr>\n",
       "    <tr>\n",
       "      <th>16</th>\n",
       "      <td>0.00000</td>\n",
       "      <td>0.33326</td>\n",
       "      <td>0.05263</td>\n",
       "    </tr>\n",
       "    <tr>\n",
       "      <th>17</th>\n",
       "      <td>0.00205</td>\n",
       "      <td>0.47500</td>\n",
       "      <td>0.26316</td>\n",
       "    </tr>\n",
       "    <tr>\n",
       "      <th>18</th>\n",
       "      <td>0.00000</td>\n",
       "      <td>0.35188</td>\n",
       "      <td>0.05263</td>\n",
       "    </tr>\n",
       "    <tr>\n",
       "      <th>19</th>\n",
       "      <td>0.00000</td>\n",
       "      <td>0.35188</td>\n",
       "      <td>0.05263</td>\n",
       "    </tr>\n",
       "  </tbody>\n",
       "</table>\n",
       "</div>"
      ],
      "text/plain": [
       "    Betweenness  Closeness   Degree\n",
       "0       0.00000    0.00000  0.00000\n",
       "1       0.00000    0.33326  0.05263\n",
       "2       0.00072    0.35188  0.15789\n",
       "3       0.00055    0.39577  0.15789\n",
       "4       0.00041    0.39577  0.10526\n",
       "5       0.00173    0.46341  0.21053\n",
       "6       0.00007    0.31141  0.10526\n",
       "7       0.00000    0.29222  0.05263\n",
       "8       0.00082    0.39577  0.15789\n",
       "9       0.00048    0.34542  0.10526\n",
       "10      0.00000    0.26752  0.05263\n",
       "11      0.00072    0.32756  0.15789\n",
       "12      0.00065    0.37259  0.10526\n",
       "13      0.00000    0.25327  0.05263\n",
       "14      0.00232    0.51357  0.26316\n",
       "15      0.00104    0.43187  0.15789\n",
       "16      0.00000    0.33326  0.05263\n",
       "17      0.00205    0.47500  0.26316\n",
       "18      0.00000    0.35188  0.05263\n",
       "19      0.00000    0.35188  0.05263"
      ]
     },
     "execution_count": 237,
     "metadata": {},
     "output_type": "execute_result"
    }
   ],
   "source": [
    "SU_df = pd.DataFrame({'Degree': SU_degree,\n",
    "                              'Closeness': SU_closeness,\n",
    "                              'Betweenness': SU_betweenness})\n",
    "\n",
    "SU_df\n",
    "#SU_df.sort_values(by=['Degree']) # 17, 14 (gefolgt von 5)\n",
    "#SU_df.sort_values(by=['Closeness']) # 14 (gefolgt von 17, 5)\n",
    "#SU_df.sort_values(by=['Betweenness']) # 14 (gefolgt von 17, 5)"
   ]
  },
  {
   "cell_type": "code",
   "execution_count": 238,
   "metadata": {},
   "outputs": [
    {
     "data": {
      "image/png": "[encoded data removed]",
      "text/plain": [
       "<matplotlib.figure.Figure at 0x170ff34e550>"
      ]
     },
     "metadata": {},
     "output_type": "display_data"
    }
   ],
   "source": [
    "pos = nx.spring_layout(SU)\n",
    "\n",
    "nx.draw(SU, pos, with_labels=True, node_size=SU_df['Degree'].loc[SU] * 2000,\n",
    "       node_color=SU_df['Closeness'].loc[SU],\n",
    "       cmap=plt.cm.autumn)\n",
    "\n",
    "size_SU = len(SU.nodes())"
   ]
  },
  {
   "cell_type": "code",
   "execution_count": 239,
   "metadata": {
    "collapsed": true
   },
   "outputs": [],
   "source": [
    "# Wir löschen nun einen als zentral identifizierten Knoten: Akteur 14\n",
    "# These: durch die Löschung wird die Betweeness der um die herum liegenden Knoten höher\n",
    "SU_adj = SU"
   ]
  },
  {
   "cell_type": "code",
   "execution_count": 240,
   "metadata": {
    "collapsed": true
   },
   "outputs": [],
   "source": [
    "SU_adj.remove_node(14)\n",
    "\n",
    "size_SU_adj = len(SU_adj.nodes())"
   ]
  },
  {
   "cell_type": "code",
   "execution_count": 241,
   "metadata": {},
   "outputs": [
    {
     "name": "stdout",
     "output_type": "stream",
     "text": [
      "Gruppen Degree: 0.13725\n",
      "Gruppen Closeness: 0.29283\n",
      "Gruppen Betweenness: 0.00116\n"
     ]
    }
   ],
   "source": [
    "## Zentralitätsmaße \n",
    "# Akteursbezogen\n",
    "SU_adj_degree = standarized_degree_list(SU_adj)\n",
    "SU_adj_closeness = standardized_closeness(SU_adj, size_SU_adj)\n",
    "SU_adj_betweenness = standardized_betweeness(SU_adj, size_SU_adj)\n",
    "\n",
    "#print(\"Prestige Degree:\", prestige_degree(SU, size_SU))\n",
    "#print(\"Nachbarschafts Prestige:\", nachbarschaft(SU))\n",
    "\n",
    "# Gruppenbezogen\n",
    "print(\"Gruppen Degree:\", group_degree(SU_adj, size_SU_adj))\n",
    "print(\"Gruppen Closeness:\", group_closeness(SU_adj, size_SU_adj))\n",
    "print(\"Gruppen Betweenness:\", group_betweenness(SU_adj, size_SU_adj))"
   ]
  },
  {
   "cell_type": "code",
   "execution_count": 245,
   "metadata": {},
   "outputs": [
    {
     "data": {
      "text/html": [
       "<div>\n",
       "<style>\n",
       "    .dataframe thead tr:only-child th {\n",
       "        text-align: right;\n",
       "    }\n",
       "\n",
       "    .dataframe thead th {\n",
       "        text-align: left;\n",
       "    }\n",
       "\n",
       "    .dataframe tbody tr th {\n",
       "        vertical-align: top;\n",
       "    }\n",
       "</style>\n",
       "<table border=\"1\" class=\"dataframe\">\n",
       "  <thead>\n",
       "    <tr style=\"text-align: right;\">\n",
       "      <th></th>\n",
       "      <th>Betweenness</th>\n",
       "      <th>Closeness</th>\n",
       "      <th>Degree</th>\n",
       "    </tr>\n",
       "  </thead>\n",
       "  <tbody>\n",
       "    <tr>\n",
       "      <th>0</th>\n",
       "      <td>0.00000</td>\n",
       "      <td>0.00000</td>\n",
       "      <td>0.00000</td>\n",
       "    </tr>\n",
       "    <tr>\n",
       "      <th>1</th>\n",
       "      <td>0.00000</td>\n",
       "      <td>0.32148</td>\n",
       "      <td>0.05556</td>\n",
       "    </tr>\n",
       "    <tr>\n",
       "      <th>2</th>\n",
       "      <td>0.00070</td>\n",
       "      <td>0.36000</td>\n",
       "      <td>0.16667</td>\n",
       "    </tr>\n",
       "    <tr>\n",
       "      <th>3</th>\n",
       "      <td>0.00143</td>\n",
       "      <td>0.45000</td>\n",
       "      <td>0.16667</td>\n",
       "    </tr>\n",
       "    <tr>\n",
       "      <th>4</th>\n",
       "      <td>0.00128</td>\n",
       "      <td>0.43902</td>\n",
       "      <td>0.11111</td>\n",
       "    </tr>\n",
       "    <tr>\n",
       "      <th>5</th>\n",
       "      <td>0.00150</td>\n",
       "      <td>0.45000</td>\n",
       "      <td>0.16667</td>\n",
       "    </tr>\n",
       "    <tr>\n",
       "      <th>6</th>\n",
       "      <td>0.00026</td>\n",
       "      <td>0.36000</td>\n",
       "      <td>0.11111</td>\n",
       "    </tr>\n",
       "    <tr>\n",
       "      <th>7</th>\n",
       "      <td>0.00000</td>\n",
       "      <td>0.31572</td>\n",
       "      <td>0.05556</td>\n",
       "    </tr>\n",
       "    <tr>\n",
       "      <th>8</th>\n",
       "      <td>0.00132</td>\n",
       "      <td>0.41868</td>\n",
       "      <td>0.16667</td>\n",
       "    </tr>\n",
       "    <tr>\n",
       "      <th>9</th>\n",
       "      <td>0.00077</td>\n",
       "      <td>0.38304</td>\n",
       "      <td>0.11111</td>\n",
       "    </tr>\n",
       "    <tr>\n",
       "      <th>10</th>\n",
       "      <td>0.00000</td>\n",
       "      <td>0.28116</td>\n",
       "      <td>0.05556</td>\n",
       "    </tr>\n",
       "    <tr>\n",
       "      <th>11</th>\n",
       "      <td>0.00107</td>\n",
       "      <td>0.38304</td>\n",
       "      <td>0.16667</td>\n",
       "    </tr>\n",
       "    <tr>\n",
       "      <th>12</th>\n",
       "      <td>0.00081</td>\n",
       "      <td>0.39132</td>\n",
       "      <td>0.11111</td>\n",
       "    </tr>\n",
       "    <tr>\n",
       "      <th>13</th>\n",
       "      <td>0.00000</td>\n",
       "      <td>0.29502</td>\n",
       "      <td>0.05556</td>\n",
       "    </tr>\n",
       "    <tr>\n",
       "      <th>15</th>\n",
       "      <td>0.00081</td>\n",
       "      <td>0.39132</td>\n",
       "      <td>0.11111</td>\n",
       "    </tr>\n",
       "    <tr>\n",
       "      <th>16</th>\n",
       "      <td>0.00000</td>\n",
       "      <td>0.32148</td>\n",
       "      <td>0.05556</td>\n",
       "    </tr>\n",
       "    <tr>\n",
       "      <th>17</th>\n",
       "      <td>0.00171</td>\n",
       "      <td>0.42858</td>\n",
       "      <td>0.22222</td>\n",
       "    </tr>\n",
       "    <tr>\n",
       "      <th>18</th>\n",
       "      <td>0.00000</td>\n",
       "      <td>0.00000</td>\n",
       "      <td>0.00000</td>\n",
       "    </tr>\n",
       "    <tr>\n",
       "      <th>19</th>\n",
       "      <td>0.00000</td>\n",
       "      <td>0.00000</td>\n",
       "      <td>0.00000</td>\n",
       "    </tr>\n",
       "  </tbody>\n",
       "</table>\n",
       "</div>"
      ],
      "text/plain": [
       "    Betweenness  Closeness   Degree\n",
       "0       0.00000    0.00000  0.00000\n",
       "1       0.00000    0.32148  0.05556\n",
       "2       0.00070    0.36000  0.16667\n",
       "3       0.00143    0.45000  0.16667\n",
       "4       0.00128    0.43902  0.11111\n",
       "5       0.00150    0.45000  0.16667\n",
       "6       0.00026    0.36000  0.11111\n",
       "7       0.00000    0.31572  0.05556\n",
       "8       0.00132    0.41868  0.16667\n",
       "9       0.00077    0.38304  0.11111\n",
       "10      0.00000    0.28116  0.05556\n",
       "11      0.00107    0.38304  0.16667\n",
       "12      0.00081    0.39132  0.11111\n",
       "13      0.00000    0.29502  0.05556\n",
       "15      0.00081    0.39132  0.11111\n",
       "16      0.00000    0.32148  0.05556\n",
       "17      0.00171    0.42858  0.22222\n",
       "18      0.00000    0.00000  0.00000\n",
       "19      0.00000    0.00000  0.00000"
      ]
     },
     "execution_count": 245,
     "metadata": {},
     "output_type": "execute_result"
    }
   ],
   "source": [
    "SU_adj_df = pd.DataFrame({'Degree': SU_adj_degree,\n",
    "                              'Closeness': SU_adj_closeness,\n",
    "                              'Betweenness': SU_adj_betweenness})\n",
    "SU_adj_df\n",
    "#SU_adj_df.sort_values(by=['Degree']) # 17 (gefolgt von 2,11)\n",
    "#SU_adj_df.sort_values(by=['Closeness']) # 5 (gefolgt von 3, 4)\n",
    "#SU_adj_df.sort_values(by=['Betweenness']) # 17 gefolgt von (5, 3)\n",
    "\n",
    "# 19, 18 sind jetzt 0 da sie nicht mehr verbunden sind. 15 auch hoch, aber im vergleich zu vorher\n",
    "# haben sich 17 und 5 \"erhoben\""
   ]
  },
  {
   "cell_type": "code",
   "execution_count": 243,
   "metadata": {},
   "outputs": [
    {
     "data": {
      "image/png": "[encoded data removed]",
      "text/plain": [
       "<matplotlib.figure.Figure at 0x170fe2b92b0>"
      ]
     },
     "metadata": {},
     "output_type": "display_data"
    }
   ],
   "source": [
    "nx.draw(SU_adj, pos, with_labels=True, node_size=SU_adj_df['Degree'].loc[SU_adj] * 2000,\n",
    "       node_color=SU_adj_df['Closeness'].loc[SU_adj],\n",
    "       cmap=plt.cm.autumn)"
   ]
  },
  {
   "cell_type": "markdown",
   "metadata": {},
   "source": [
    "## Gerichtet"
   ]
  },
  {
   "cell_type": "code",
   "execution_count": 50,
   "metadata": {},
   "outputs": [
    {
     "data": {
      "image/png": "[encoded data removed]",
      "text/plain": [
       "<matplotlib.figure.Figure at 0x170fe1326d8>"
      ]
     },
     "metadata": {},
     "output_type": "display_data"
    }
   ],
   "source": [
    "# Zufälliger Graph\n",
    "SD = nx.random_k_out_graph(20, 1, alpha = 0.4, self_loops=False, seed=None)\n",
    "\n",
    "nx.draw(SD, node_color='y', with_labels=True)\n",
    "size_SD = len(SD.nodes())"
   ]
  },
  {
   "cell_type": "code",
   "execution_count": 152,
   "metadata": {},
   "outputs": [
    {
     "name": "stdout",
     "output_type": "stream",
     "text": [
      "Gruppendegree gerichteter Graph: 0.0\n",
      "Gruppen Nachbarschafts Prestige: 0.05263050000000001\n"
     ]
    }
   ],
   "source": [
    "## Zentralitätsmaße \n",
    "# Akteursbezogen\n",
    "prest_degree = prestige_degree(SD, size_SD)\n",
    "prest_nachbar = nachbarschaft(SD, size_SD)\n",
    "di_degree = degree_digraph(SD, size_SD)\n",
    "\n",
    "# Standartisierte Closeness C*_C\n",
    "V = len(SD.nodes())\n",
    "adj = [[] for i in range(V + 1)]\n",
    "visited = [0 for i in range(V + 1)]\n",
    "addEdge(SD.edges())\n",
    "arr = list(SD.nodes())\n",
    "n = len(arr)\n",
    "J = findReachableNodes(arr, n)\n",
    "\n",
    "std_close_di = dict()\n",
    "for i in SD.nodes():\n",
    "    di = nx.single_source_shortest_path_length(SD, i)\n",
    "    sum_di = sum(di.values())\n",
    "    j = list(J.values())\n",
    "    j_i = len(j[i])\n",
    "    if ((sum_di)/j_i) != 0:\n",
    "        std_c = round(((j_i/(size_SD-1))/((sum_di)/j_i)),4)\n",
    "    else:\n",
    "        std_c = 0\n",
    "    std_close_di.update({i:std_c})\n",
    "\n",
    "di_closeness = std_close_di\n",
    "\n",
    "# Gruppenbezogen\n",
    "print(\"Gruppendegree gerichteter Graph:\", group_degree_digraph(SD, size_SD)) \n",
    "print(\"Gruppen Nachbarschafts Prestige:\", group_nachbarschaft(SD, size_SD))"
   ]
  },
  {
   "cell_type": "code",
   "execution_count": 68,
   "metadata": {},
   "outputs": [
    {
     "data": {
      "text/html": [
       "<div>\n",
       "<style>\n",
       "    .dataframe thead tr:only-child th {\n",
       "        text-align: right;\n",
       "    }\n",
       "\n",
       "    .dataframe thead th {\n",
       "        text-align: left;\n",
       "    }\n",
       "\n",
       "    .dataframe tbody tr th {\n",
       "        vertical-align: top;\n",
       "    }\n",
       "</style>\n",
       "<table border=\"1\" class=\"dataframe\">\n",
       "  <thead>\n",
       "    <tr style=\"text-align: right;\">\n",
       "      <th></th>\n",
       "      <th>Di_C</th>\n",
       "      <th>Di_D</th>\n",
       "      <th>Prestige_D</th>\n",
       "      <th>Prestige_Nachbar</th>\n",
       "    </tr>\n",
       "  </thead>\n",
       "  <tbody>\n",
       "    <tr>\n",
       "      <th>0</th>\n",
       "      <td>0.2105</td>\n",
       "      <td>0.05263</td>\n",
       "      <td>0.47368</td>\n",
       "      <td>0.47368</td>\n",
       "    </tr>\n",
       "    <tr>\n",
       "      <th>1</th>\n",
       "      <td>0.0175</td>\n",
       "      <td>0.05263</td>\n",
       "      <td>0.00000</td>\n",
       "      <td>0.00000</td>\n",
       "    </tr>\n",
       "    <tr>\n",
       "      <th>2</th>\n",
       "      <td>0.0351</td>\n",
       "      <td>0.05263</td>\n",
       "      <td>0.00000</td>\n",
       "      <td>0.00000</td>\n",
       "    </tr>\n",
       "    <tr>\n",
       "      <th>3</th>\n",
       "      <td>0.0474</td>\n",
       "      <td>0.05263</td>\n",
       "      <td>0.05263</td>\n",
       "      <td>0.05263</td>\n",
       "    </tr>\n",
       "    <tr>\n",
       "      <th>4</th>\n",
       "      <td>0.4737</td>\n",
       "      <td>0.05263</td>\n",
       "      <td>0.05263</td>\n",
       "      <td>0.05263</td>\n",
       "    </tr>\n",
       "    <tr>\n",
       "      <th>5</th>\n",
       "      <td>0.0175</td>\n",
       "      <td>0.05263</td>\n",
       "      <td>0.00000</td>\n",
       "      <td>0.00000</td>\n",
       "    </tr>\n",
       "    <tr>\n",
       "      <th>6</th>\n",
       "      <td>0.0088</td>\n",
       "      <td>0.05263</td>\n",
       "      <td>0.00000</td>\n",
       "      <td>0.00000</td>\n",
       "    </tr>\n",
       "    <tr>\n",
       "      <th>7</th>\n",
       "      <td>0.0088</td>\n",
       "      <td>0.05263</td>\n",
       "      <td>0.05263</td>\n",
       "      <td>0.05263</td>\n",
       "    </tr>\n",
       "    <tr>\n",
       "      <th>8</th>\n",
       "      <td>0.0175</td>\n",
       "      <td>0.05263</td>\n",
       "      <td>0.05263</td>\n",
       "      <td>0.05263</td>\n",
       "    </tr>\n",
       "    <tr>\n",
       "      <th>9</th>\n",
       "      <td>0.0035</td>\n",
       "      <td>0.05263</td>\n",
       "      <td>0.00000</td>\n",
       "      <td>0.00000</td>\n",
       "    </tr>\n",
       "    <tr>\n",
       "      <th>10</th>\n",
       "      <td>0.0088</td>\n",
       "      <td>0.05263</td>\n",
       "      <td>0.10526</td>\n",
       "      <td>0.10526</td>\n",
       "    </tr>\n",
       "    <tr>\n",
       "      <th>11</th>\n",
       "      <td>0.0053</td>\n",
       "      <td>0.05263</td>\n",
       "      <td>0.00000</td>\n",
       "      <td>0.00000</td>\n",
       "    </tr>\n",
       "    <tr>\n",
       "      <th>12</th>\n",
       "      <td>0.0175</td>\n",
       "      <td>0.05263</td>\n",
       "      <td>0.15789</td>\n",
       "      <td>0.15789</td>\n",
       "    </tr>\n",
       "    <tr>\n",
       "      <th>13</th>\n",
       "      <td>0.0211</td>\n",
       "      <td>0.05263</td>\n",
       "      <td>0.00000</td>\n",
       "      <td>0.00000</td>\n",
       "    </tr>\n",
       "    <tr>\n",
       "      <th>14</th>\n",
       "      <td>0.0175</td>\n",
       "      <td>0.05263</td>\n",
       "      <td>0.00000</td>\n",
       "      <td>0.00000</td>\n",
       "    </tr>\n",
       "    <tr>\n",
       "      <th>15</th>\n",
       "      <td>0.0053</td>\n",
       "      <td>0.05263</td>\n",
       "      <td>0.00000</td>\n",
       "      <td>0.00000</td>\n",
       "    </tr>\n",
       "    <tr>\n",
       "      <th>16</th>\n",
       "      <td>0.0175</td>\n",
       "      <td>0.05263</td>\n",
       "      <td>0.00000</td>\n",
       "      <td>0.00000</td>\n",
       "    </tr>\n",
       "    <tr>\n",
       "      <th>17</th>\n",
       "      <td>0.0175</td>\n",
       "      <td>0.05263</td>\n",
       "      <td>0.05263</td>\n",
       "      <td>0.05263</td>\n",
       "    </tr>\n",
       "    <tr>\n",
       "      <th>18</th>\n",
       "      <td>0.0175</td>\n",
       "      <td>0.05263</td>\n",
       "      <td>0.00000</td>\n",
       "      <td>0.00000</td>\n",
       "    </tr>\n",
       "    <tr>\n",
       "      <th>19</th>\n",
       "      <td>0.0088</td>\n",
       "      <td>0.05263</td>\n",
       "      <td>0.05263</td>\n",
       "      <td>0.05263</td>\n",
       "    </tr>\n",
       "  </tbody>\n",
       "</table>\n",
       "</div>"
      ],
      "text/plain": [
       "      Di_C     Di_D  Prestige_D  Prestige_Nachbar\n",
       "0   0.2105  0.05263     0.47368           0.47368\n",
       "1   0.0175  0.05263     0.00000           0.00000\n",
       "2   0.0351  0.05263     0.00000           0.00000\n",
       "3   0.0474  0.05263     0.05263           0.05263\n",
       "4   0.4737  0.05263     0.05263           0.05263\n",
       "5   0.0175  0.05263     0.00000           0.00000\n",
       "6   0.0088  0.05263     0.00000           0.00000\n",
       "7   0.0088  0.05263     0.05263           0.05263\n",
       "8   0.0175  0.05263     0.05263           0.05263\n",
       "9   0.0035  0.05263     0.00000           0.00000\n",
       "10  0.0088  0.05263     0.10526           0.10526\n",
       "11  0.0053  0.05263     0.00000           0.00000\n",
       "12  0.0175  0.05263     0.15789           0.15789\n",
       "13  0.0211  0.05263     0.00000           0.00000\n",
       "14  0.0175  0.05263     0.00000           0.00000\n",
       "15  0.0053  0.05263     0.00000           0.00000\n",
       "16  0.0175  0.05263     0.00000           0.00000\n",
       "17  0.0175  0.05263     0.05263           0.05263\n",
       "18  0.0175  0.05263     0.00000           0.00000\n",
       "19  0.0088  0.05263     0.05263           0.05263"
      ]
     },
     "execution_count": 68,
     "metadata": {},
     "output_type": "execute_result"
    }
   ],
   "source": [
    "SD_df = pd.DataFrame({'Prestige_D': prest_degree,\n",
    "                      'Di_D': di_degree,\n",
    "                      'Prestige_Nachbar': prest_nachbar,\n",
    "                      'Di_C': di_closeness})\n",
    "SD_df\n",
    "#SD_df.sort_values(by=['Prestige_Nachbar']) # 3,5\n",
    "#SD_df.sort_values(by=['Prestige_D']) # 3,5\n",
    "#SD_df.sort_values(by=['Di_D']) # Alle haben gleichen Wert\n",
    "#SD_df.sort_values(by=['Di_C']) # 0 (gefolgt von 14,5,8)"
   ]
  },
  {
   "cell_type": "code",
   "execution_count": 53,
   "metadata": {},
   "outputs": [
    {
     "data": {
      "image/png": "[encoded data removed]",
      "text/plain": [
       "<matplotlib.figure.Figure at 0x170fe26afd0>"
      ]
     },
     "metadata": {},
     "output_type": "display_data"
    }
   ],
   "source": [
    "pos = nx.spring_layout(SD)\n",
    "nx.draw(SD, pos, with_labels=True, node_size=SD_df['Prestige_D'].loc[SD] * 1000,\n",
    "       node_color=SD_df['Prestige_Nachbar'].loc[SD],\n",
    "       cmap=plt.cm.autumn_r)"
   ]
  },
  {
   "cell_type": "markdown",
   "metadata": {},
   "source": [
    "## Wie wahrscheinlich wählt ein Akteur einen zentralen Akteur für mehrere Relationen?\n",
    "### Generieung Netzwerk\n",
    "    "
   ]
  },
  {
   "cell_type": "code",
   "execution_count": 67,
   "metadata": {},
   "outputs": [
    {
     "data": {
      "image/png": "[encoded data removed]",
      "text/plain": [
       "<matplotlib.figure.Figure at 0x170fe02b6a0>"
      ]
     },
     "metadata": {},
     "output_type": "display_data"
    }
   ],
   "source": [
    "rel1 = nx.read_pajek('AskCal.net')\n",
    "nx.draw(rel1, node_color='y', with_labels=True)"
   ]
  },
  {
   "cell_type": "code",
   "execution_count": 63,
   "metadata": {},
   "outputs": [
    {
     "data": {
      "image/png": "[encoded data removed]",
      "text/plain": [
       "<matplotlib.figure.Figure at 0x170fe291e48>"
      ]
     },
     "metadata": {},
     "output_type": "display_data"
    }
   ],
   "source": [
    "rel12 = nx.read_pajek('AskCog.net')\n",
    "nx.draw(rel12, node_color='y', with_labels=True)"
   ]
  },
  {
   "cell_type": "code",
   "execution_count": 57,
   "metadata": {},
   "outputs": [
    {
     "data": {
      "image/png": "[encoded data removed]",
      "text/plain": [
       "<matplotlib.figure.Figure at 0x170fe2b0f60>"
      ]
     },
     "metadata": {},
     "output_type": "display_data"
    }
   ],
   "source": [
    "rel2 = nx.read_pajek('AnsCalT.net')\n",
    "nx.draw_circular(rel2, node_color='y', with_labels=True)"
   ]
  },
  {
   "cell_type": "code",
   "execution_count": 59,
   "metadata": {},
   "outputs": [
    {
     "data": {
      "image/png": "[encoded data removed]",
      "text/plain": [
       "<matplotlib.figure.Figure at 0x170fe1a2748>"
      ]
     },
     "metadata": {},
     "output_type": "display_data"
    }
   ],
   "source": [
    "rel22 = nx.read_pajek('AnsCogT.net')\n",
    "nx.draw_circular(rel22, node_color='y', with_labels=True)"
   ]
  },
  {
   "cell_type": "code",
   "execution_count": 35,
   "metadata": {
    "collapsed": true
   },
   "outputs": [],
   "source": [
    "## Anpassungen Relationen \n",
    "mapping = {'minister 1': 0, 'p.minister': 1, 'minister 2': 2, 'minister 3':3, 'minister 4':4, 'minister 5':5, \n",
    "           'minister 6':6, 'minister 7':7, 'adviser 1':8, 'adviser 2':9, 'adviser 3':10}\n",
    "rel1 = nx.relabel_nodes(rel1, mapping)\n",
    "rel2 = nx.relabel_nodes(rel2, mapping)\n",
    "\n",
    "rel12 = nx.relabel_nodes(rel12, mapping)\n",
    "rel22 = nx.relabel_nodes(rel22, mapping)"
   ]
  },
  {
   "cell_type": "markdown",
   "metadata": {},
   "source": [
    "### Betrachtung Recall Fragen"
   ]
  },
  {
   "cell_type": "code",
   "execution_count": 36,
   "metadata": {},
   "outputs": [
    {
     "name": "stdout",
     "output_type": "stream",
     "text": [
      "Gruppendegree gerichteter Graph: 0.0\n",
      "Gruppen Nachbarschafts Prestige: 0.10000000000000002\n"
     ]
    }
   ],
   "source": [
    "## Zentralitätsmaße Relation 1\n",
    "# Akteursbezogen\n",
    "prest_degree_rel1 = prestige_degree(rel1, len(rel1.nodes()))\n",
    "prest_nachbar_rel1 = nachbarschaft(rel1, len(rel1.nodes()))\n",
    "di_degree_rel1 = degree_digraph(rel1, len(rel1.nodes()))\n",
    "\n",
    "# Standartisierte Closeness C*_C \n",
    "# Standartisierte Closeness C*_C\n",
    "V = len(rel1.nodes())\n",
    "adj = [[] for i in range(V + 1)]\n",
    "visited = [0 for i in range(V + 1)]\n",
    "addEdge(rel1.edges())\n",
    "arr = list(rel1.nodes())\n",
    "n = len(arr)\n",
    "J = findReachableNodes(arr, n)\n",
    "\n",
    "std_close_di = dict()\n",
    "for i in rel1.nodes():\n",
    "    di = nx.single_source_shortest_path_length(rel1, i)\n",
    "    sum_di = sum(di.values())\n",
    "    j = list(J.values())\n",
    "    j_i = len(j[i])\n",
    "    if((sum_di)/j_i) != 0:\n",
    "        std_c = round(((j_i/(len(rel1.nodes())-1))/((sum_di)/j_i)),4)\n",
    "    else:\n",
    "        std_c = 0\n",
    "    std_close_di.update({i:std_c})\n",
    "\n",
    "di_closeness_rel1 = std_close_di\n",
    "\n",
    "# Gruppenbezogen\n",
    "print(\"Gruppendegree gerichteter Graph:\", group_degree_digraph(rel1, len(rel1.nodes())))\n",
    "print(\"Gruppen Nachbarschafts Prestige:\", group_nachbarschaft(rel1, len(rel1.nodes())))"
   ]
  },
  {
   "cell_type": "code",
   "execution_count": 37,
   "metadata": {},
   "outputs": [
    {
     "data": {
      "text/html": [
       "<div>\n",
       "<style>\n",
       "    .dataframe thead tr:only-child th {\n",
       "        text-align: right;\n",
       "    }\n",
       "\n",
       "    .dataframe thead th {\n",
       "        text-align: left;\n",
       "    }\n",
       "\n",
       "    .dataframe tbody tr th {\n",
       "        vertical-align: top;\n",
       "    }\n",
       "</style>\n",
       "<table border=\"1\" class=\"dataframe\">\n",
       "  <thead>\n",
       "    <tr style=\"text-align: right;\">\n",
       "      <th></th>\n",
       "      <th>Di_C</th>\n",
       "      <th>Di_D</th>\n",
       "      <th>Prestige_D</th>\n",
       "      <th>Prestige_Nachbar</th>\n",
       "    </tr>\n",
       "  </thead>\n",
       "  <tbody>\n",
       "    <tr>\n",
       "      <th>0</th>\n",
       "      <td>0.3000</td>\n",
       "      <td>0.1</td>\n",
       "      <td>0.2</td>\n",
       "      <td>0.2</td>\n",
       "    </tr>\n",
       "    <tr>\n",
       "      <th>1</th>\n",
       "      <td>0.9000</td>\n",
       "      <td>0.1</td>\n",
       "      <td>0.5</td>\n",
       "      <td>0.5</td>\n",
       "    </tr>\n",
       "    <tr>\n",
       "      <th>2</th>\n",
       "      <td>0.0167</td>\n",
       "      <td>0.1</td>\n",
       "      <td>0.1</td>\n",
       "      <td>0.1</td>\n",
       "    </tr>\n",
       "    <tr>\n",
       "      <th>3</th>\n",
       "      <td>0.1000</td>\n",
       "      <td>0.1</td>\n",
       "      <td>0.2</td>\n",
       "      <td>0.2</td>\n",
       "    </tr>\n",
       "    <tr>\n",
       "      <th>4</th>\n",
       "      <td>0.0333</td>\n",
       "      <td>0.1</td>\n",
       "      <td>0.0</td>\n",
       "      <td>0.0</td>\n",
       "    </tr>\n",
       "    <tr>\n",
       "      <th>5</th>\n",
       "      <td>0.0333</td>\n",
       "      <td>0.1</td>\n",
       "      <td>0.0</td>\n",
       "      <td>0.0</td>\n",
       "    </tr>\n",
       "    <tr>\n",
       "      <th>6</th>\n",
       "      <td>0.0333</td>\n",
       "      <td>0.1</td>\n",
       "      <td>0.1</td>\n",
       "      <td>0.1</td>\n",
       "    </tr>\n",
       "    <tr>\n",
       "      <th>7</th>\n",
       "      <td>0.0333</td>\n",
       "      <td>0.1</td>\n",
       "      <td>0.0</td>\n",
       "      <td>0.0</td>\n",
       "    </tr>\n",
       "    <tr>\n",
       "      <th>8</th>\n",
       "      <td>0.0167</td>\n",
       "      <td>0.1</td>\n",
       "      <td>0.0</td>\n",
       "      <td>0.0</td>\n",
       "    </tr>\n",
       "    <tr>\n",
       "      <th>9</th>\n",
       "      <td>0.0167</td>\n",
       "      <td>0.1</td>\n",
       "      <td>0.0</td>\n",
       "      <td>0.0</td>\n",
       "    </tr>\n",
       "    <tr>\n",
       "      <th>10</th>\n",
       "      <td>0.0100</td>\n",
       "      <td>0.1</td>\n",
       "      <td>0.0</td>\n",
       "      <td>0.0</td>\n",
       "    </tr>\n",
       "  </tbody>\n",
       "</table>\n",
       "</div>"
      ],
      "text/plain": [
       "      Di_C  Di_D  Prestige_D  Prestige_Nachbar\n",
       "0   0.3000   0.1         0.2               0.2\n",
       "1   0.9000   0.1         0.5               0.5\n",
       "2   0.0167   0.1         0.1               0.1\n",
       "3   0.1000   0.1         0.2               0.2\n",
       "4   0.0333   0.1         0.0               0.0\n",
       "5   0.0333   0.1         0.0               0.0\n",
       "6   0.0333   0.1         0.1               0.1\n",
       "7   0.0333   0.1         0.0               0.0\n",
       "8   0.0167   0.1         0.0               0.0\n",
       "9   0.0167   0.1         0.0               0.0\n",
       "10  0.0100   0.1         0.0               0.0"
      ]
     },
     "execution_count": 37,
     "metadata": {},
     "output_type": "execute_result"
    }
   ],
   "source": [
    "rel1_df = pd.DataFrame({'Prestige_D': prest_degree_rel1,\n",
    "                      'Di_D': di_degree_rel1,\n",
    "                      'Prestige_Nachbar': prest_nachbar_rel1,\n",
    "                      'Di_C': di_closeness_rel1})\n",
    "\n",
    "rel1_df\n",
    "# 1 und damit der p.minister ist der zentralste Knoten"
   ]
  },
  {
   "cell_type": "code",
   "execution_count": 38,
   "metadata": {},
   "outputs": [
    {
     "data": {
      "text/plain": [
       "OutMultiEdgeDataView([(0, 1), (1, 3), (2, 0), (3, 1), (4, 1), (5, 1), (6, 3), (7, 1), (8, 6), (9, 0), (10, 2)])"
      ]
     },
     "execution_count": 38,
     "metadata": {},
     "output_type": "execute_result"
    }
   ],
   "source": [
    "rel1.edges() # 0, 3, 4, 5, 7 haben p minister angegeben"
   ]
  },
  {
   "cell_type": "code",
   "execution_count": 39,
   "metadata": {},
   "outputs": [
    {
     "name": "stdout",
     "output_type": "stream",
     "text": [
      "Gruppendegree gerichteter Graph: 0.001\n",
      "Gruppen Nachbarschafts Prestige: 0.09090909090909093\n"
     ]
    }
   ],
   "source": [
    "## Zentralitätsmaße Relation 2\n",
    "# Akteursbezogen\n",
    "prest_degree_rel2 = prestige_degree(rel2, len(rel2.nodes()))\n",
    "prest_nachbar_rel2 = nachbarschaft(rel2, len(rel2.nodes()))\n",
    "di_degree_rel2 = degree_digraph(rel2, len(rel2.nodes()))\n",
    "\n",
    "# Standartisierte Closeness C*_C \n",
    "# Standartisierte Closeness C*_C\n",
    "V = len(rel2.nodes())\n",
    "adj = [[] for i in range(V + 1)]\n",
    "visited = [0 for i in range(V + 1)]\n",
    "addEdge(rel2.edges())\n",
    "arr = list(rel2.nodes())\n",
    "n = len(arr)\n",
    "J = findReachableNodes(arr, n)\n",
    "\n",
    "std_close_di = dict()\n",
    "for i in rel2.nodes():\n",
    "    di = nx.single_source_shortest_path_length(rel2, i)\n",
    "    sum_di = sum(di.values())\n",
    "    j = list(J.values())\n",
    "    j_i = len(j[i])\n",
    "    if ((sum_di)/j_i) != 0:\n",
    "        std_c = round(((j_i/(len(rel2.nodes())-1))/((sum_di)/j_i)),4)\n",
    "    else:\n",
    "        std_c = 0\n",
    "    std_close_di.update({i:std_c})\n",
    "\n",
    "di_closeness_rel2 = std_close_di\n",
    "\n",
    "# Gruppenbezogen\n",
    "print(\"Gruppendegree gerichteter Graph:\", group_degree_digraph(rel2, len(rel2.nodes())))\n",
    "print(\"Gruppen Nachbarschafts Prestige:\", group_nachbarschaft(rel2, len(rel2.nodes())))"
   ]
  },
  {
   "cell_type": "code",
   "execution_count": 40,
   "metadata": {},
   "outputs": [
    {
     "data": {
      "text/html": [
       "<div>\n",
       "<style>\n",
       "    .dataframe thead tr:only-child th {\n",
       "        text-align: right;\n",
       "    }\n",
       "\n",
       "    .dataframe thead th {\n",
       "        text-align: left;\n",
       "    }\n",
       "\n",
       "    .dataframe tbody tr th {\n",
       "        vertical-align: top;\n",
       "    }\n",
       "</style>\n",
       "<table border=\"1\" class=\"dataframe\">\n",
       "  <thead>\n",
       "    <tr style=\"text-align: right;\">\n",
       "      <th></th>\n",
       "      <th>Di_C</th>\n",
       "      <th>Di_D</th>\n",
       "      <th>Prestige_D</th>\n",
       "      <th>Prestige_Nachbar</th>\n",
       "    </tr>\n",
       "  </thead>\n",
       "  <tbody>\n",
       "    <tr>\n",
       "      <th>0</th>\n",
       "      <td>0.4000</td>\n",
       "      <td>0.1</td>\n",
       "      <td>0.1</td>\n",
       "      <td>0.1</td>\n",
       "    </tr>\n",
       "    <tr>\n",
       "      <th>1</th>\n",
       "      <td>0.4000</td>\n",
       "      <td>0.1</td>\n",
       "      <td>0.8</td>\n",
       "      <td>0.8</td>\n",
       "    </tr>\n",
       "    <tr>\n",
       "      <th>2</th>\n",
       "      <td>0.0333</td>\n",
       "      <td>0.1</td>\n",
       "      <td>0.0</td>\n",
       "      <td>0.0</td>\n",
       "    </tr>\n",
       "    <tr>\n",
       "      <th>3</th>\n",
       "      <td>0.0333</td>\n",
       "      <td>0.1</td>\n",
       "      <td>0.1</td>\n",
       "      <td>0.1</td>\n",
       "    </tr>\n",
       "    <tr>\n",
       "      <th>4</th>\n",
       "      <td>0.0333</td>\n",
       "      <td>0.1</td>\n",
       "      <td>0.0</td>\n",
       "      <td>0.0</td>\n",
       "    </tr>\n",
       "    <tr>\n",
       "      <th>5</th>\n",
       "      <td>0.0333</td>\n",
       "      <td>0.1</td>\n",
       "      <td>0.0</td>\n",
       "      <td>0.0</td>\n",
       "    </tr>\n",
       "    <tr>\n",
       "      <th>6</th>\n",
       "      <td>0.0167</td>\n",
       "      <td>0.1</td>\n",
       "      <td>0.0</td>\n",
       "      <td>0.0</td>\n",
       "    </tr>\n",
       "    <tr>\n",
       "      <th>7</th>\n",
       "      <td>0.0333</td>\n",
       "      <td>0.1</td>\n",
       "      <td>0.0</td>\n",
       "      <td>0.0</td>\n",
       "    </tr>\n",
       "    <tr>\n",
       "      <th>8</th>\n",
       "      <td>0.0000</td>\n",
       "      <td>0.0</td>\n",
       "      <td>0.0</td>\n",
       "      <td>0.0</td>\n",
       "    </tr>\n",
       "    <tr>\n",
       "      <th>9</th>\n",
       "      <td>0.0333</td>\n",
       "      <td>0.1</td>\n",
       "      <td>0.0</td>\n",
       "      <td>0.0</td>\n",
       "    </tr>\n",
       "    <tr>\n",
       "      <th>10</th>\n",
       "      <td>0.0333</td>\n",
       "      <td>0.1</td>\n",
       "      <td>0.0</td>\n",
       "      <td>0.0</td>\n",
       "    </tr>\n",
       "  </tbody>\n",
       "</table>\n",
       "</div>"
      ],
      "text/plain": [
       "      Di_C  Di_D  Prestige_D  Prestige_Nachbar\n",
       "0   0.4000   0.1         0.1               0.1\n",
       "1   0.4000   0.1         0.8               0.8\n",
       "2   0.0333   0.1         0.0               0.0\n",
       "3   0.0333   0.1         0.1               0.1\n",
       "4   0.0333   0.1         0.0               0.0\n",
       "5   0.0333   0.1         0.0               0.0\n",
       "6   0.0167   0.1         0.0               0.0\n",
       "7   0.0333   0.1         0.0               0.0\n",
       "8   0.0000   0.0         0.0               0.0\n",
       "9   0.0333   0.1         0.0               0.0\n",
       "10  0.0333   0.1         0.0               0.0"
      ]
     },
     "execution_count": 40,
     "metadata": {},
     "output_type": "execute_result"
    }
   ],
   "source": [
    "rel2_df = pd.DataFrame({'Prestige_D': prest_degree_rel2,\n",
    "                      'Di_D': di_degree_rel2,\n",
    "                      'Prestige_Nachbar': prest_nachbar_rel2,\n",
    "                      'Di_C': di_closeness_rel2})\n",
    "\n",
    "rel2_df\n",
    "# Auch hier wieder 1 führend (0 und 3 folgend)"
   ]
  },
  {
   "cell_type": "code",
   "execution_count": 41,
   "metadata": {},
   "outputs": [
    {
     "data": {
      "text/plain": [
       "OutMultiEdgeDataView([(0, 1), (1, 0), (2, 1), (3, 1), (4, 1), (5, 1), (6, 3), (7, 1), (9, 1), (10, 1)])"
      ]
     },
     "execution_count": 41,
     "metadata": {},
     "output_type": "execute_result"
    }
   ],
   "source": [
    "rel2.edges()"
   ]
  },
  {
   "cell_type": "code",
   "execution_count": 42,
   "metadata": {},
   "outputs": [
    {
     "name": "stdout",
     "output_type": "stream",
     "text": [
      "{0: 4, 2: 1, 3: 2, 4: 3, 5: 2, 6: 0, 7: 4, 8: 1, 9: 1, 10: 1}\n"
     ]
    }
   ],
   "source": [
    "# Wie häufig haben die Akteure den Prime Minister nominiert? (Maximun 4 mal)\n",
    "def choice_actor_i(i):\n",
    "    choosen_2 = dict()\n",
    "    for node in rel2.nodes():\n",
    "        if node != i:\n",
    "            true_edge = (node, i)\n",
    "            edge_rel1 = list(rel1.edges(node))\n",
    "            edge_rel2 = list(rel2.edges(node))\n",
    "            edge_rel12 = list(rel12.edges(node))\n",
    "            edge_rel22 = list(rel22.edges(node))\n",
    "            total_list = edge_rel1 + edge_rel12 + edge_rel2 + edge_rel22\n",
    "            count = total_list.count(true_edge)\n",
    "            choosen_2.update({node : count})\n",
    "    return(choosen_2)\n",
    "\n",
    "print(choice_actor_i(1))"
   ]
  },
  {
   "cell_type": "code",
   "execution_count": 43,
   "metadata": {},
   "outputs": [
    {
     "name": "stdout",
     "output_type": "stream",
     "text": [
      "{0: 1.0, 2: 0.25, 3: 0.5, 4: 0.75, 5: 0.5, 6: 0.0, 7: 1.0, 8: 0.25, 9: 0.25, 10: 0.25}\n",
      "0.4318\n"
     ]
    }
   ],
   "source": [
    "# Wkteit Prime Minister zu nominieren\n",
    "choosen_2 = choice_actor_i(1)\n",
    "probabilty_choose1 = dict()\n",
    "for node, item in choosen_2.items():\n",
    "    prob = item/4\n",
    "    probabilty_choose1.update({node:prob})\n",
    "    \n",
    "print(probabilty_choose1)\n",
    "\n",
    "group_prop = round((sum(probabilty_choose1.values())/11), 4)\n",
    "print(group_prop)"
   ]
  },
  {
   "cell_type": "code",
   "execution_count": 44,
   "metadata": {},
   "outputs": [
    {
     "name": "stdout",
     "output_type": "stream",
     "text": [
      "{1: 0.5, 2: 0.75, 3: 0.0, 4: 0.25, 5: 0.5, 6: 0.25, 7: 0.0, 8: 0.0, 9: 0.75, 10: 0.0}\n",
      "0.2727\n"
     ]
    }
   ],
   "source": [
    "# Wkteit Minister zu nominieren\n",
    "choosen_2 = choice_actor_i(0)\n",
    "probabilty_choose1 = dict()\n",
    "for node, item in choosen_2.items():\n",
    "    prob = item/4\n",
    "    probabilty_choose1.update({node:prob})\n",
    "    \n",
    "print(probabilty_choose1)\n",
    "\n",
    "group_prop = round((sum(probabilty_choose1.values())/11), 4)\n",
    "print(group_prop)"
   ]
  },
  {
   "cell_type": "code",
   "execution_count": 45,
   "metadata": {},
   "outputs": [
    {
     "name": "stdout",
     "output_type": "stream",
     "text": [
      "{0: 0.0, 1: 0.5, 2: 0.0, 4: 0.0, 5: 0.0, 6: 0.75, 7: 0.0, 8: 0.0, 9: 0.0, 10: 0.25}\n",
      "0.1364\n"
     ]
    }
   ],
   "source": [
    "# Wkteit Minister 3 zu nominieren\n",
    "choosen_2 = choice_actor_i(3)\n",
    "probabilty_choose1 = dict()\n",
    "for node, item in choosen_2.items():\n",
    "    prob = item/4\n",
    "    probabilty_choose1.update({node:prob})\n",
    "    \n",
    "print(probabilty_choose1)\n",
    "\n",
    "group_prop = round((sum(probabilty_choose1.values())/11), 4)\n",
    "print(group_prop)"
   ]
  },
  {
   "cell_type": "markdown",
   "metadata": {},
   "source": [
    "### Betrachtung Recognition Fragen"
   ]
  },
  {
   "cell_type": "code",
   "execution_count": 46,
   "metadata": {},
   "outputs": [
    {
     "name": "stdout",
     "output_type": "stream",
     "text": [
      "Gruppendegree gerichteter Graph: 0.0\n",
      "Gruppen Nachbarschafts Prestige: 0.1\n"
     ]
    }
   ],
   "source": [
    "## Zentralitätsmaße Relation 12\n",
    "# Akteursbezogen\n",
    "prest_degree_rel12 = prestige_degree(rel12, len(rel12.nodes()))\n",
    "prest_nachbar_rel12 = nachbarschaft(rel12, len(rel12.nodes()))\n",
    "di_degree_rel12 = degree_digraph(rel12, len(rel12.nodes()))\n",
    "\n",
    "# Standartisierte Closeness C*_C\n",
    "V = len(rel12.nodes())\n",
    "adj = [[] for i in range(V + 1)]\n",
    "visited = [0 for i in range(V + 1)]\n",
    "addEdge(rel12.edges())\n",
    "arr = list(rel12.nodes())\n",
    "n = len(arr)\n",
    "J = findReachableNodes(arr, n)\n",
    "\n",
    "std_close_di = dict()\n",
    "for i in rel12.nodes():\n",
    "    di = nx.single_source_shortest_path_length(rel12, i)\n",
    "    sum_di = sum(di.values())\n",
    "    j = list(J.values())\n",
    "    j_i = len(j[i])\n",
    "    if ((sum_di)/j_i) != 0:\n",
    "        std_c = round(((j_i/(len(rel12.nodes())-1))/((sum_di)/j_i)),4)\n",
    "    else:\n",
    "        std_c = 0\n",
    "    std_close_di.update({i:std_c})\n",
    "\n",
    "di_closeness_rel12 = std_close_di\n",
    "\n",
    "# Gruppenbezogen\n",
    "print(\"Gruppendegree gerichteter Graph:\", group_degree_digraph(rel12, len(rel12.nodes())))\n",
    "print(\"Gruppen Nachbarschafts Prestige:\", group_nachbarschaft(rel12, len(rel12.nodes())))"
   ]
  },
  {
   "cell_type": "code",
   "execution_count": 47,
   "metadata": {},
   "outputs": [
    {
     "data": {
      "text/html": [
       "<div>\n",
       "<style>\n",
       "    .dataframe thead tr:only-child th {\n",
       "        text-align: right;\n",
       "    }\n",
       "\n",
       "    .dataframe thead th {\n",
       "        text-align: left;\n",
       "    }\n",
       "\n",
       "    .dataframe tbody tr th {\n",
       "        vertical-align: top;\n",
       "    }\n",
       "</style>\n",
       "<table border=\"1\" class=\"dataframe\">\n",
       "  <thead>\n",
       "    <tr style=\"text-align: right;\">\n",
       "      <th></th>\n",
       "      <th>Di_C</th>\n",
       "      <th>Di_D</th>\n",
       "      <th>Prestige_D</th>\n",
       "      <th>Prestige_Nachbar</th>\n",
       "    </tr>\n",
       "  </thead>\n",
       "  <tbody>\n",
       "    <tr>\n",
       "      <th>0</th>\n",
       "      <td>0.2667</td>\n",
       "      <td>0.1</td>\n",
       "      <td>0.3</td>\n",
       "      <td>0.3</td>\n",
       "    </tr>\n",
       "    <tr>\n",
       "      <th>1</th>\n",
       "      <td>0.5333</td>\n",
       "      <td>0.1</td>\n",
       "      <td>0.4</td>\n",
       "      <td>0.4</td>\n",
       "    </tr>\n",
       "    <tr>\n",
       "      <th>2</th>\n",
       "      <td>0.0100</td>\n",
       "      <td>0.1</td>\n",
       "      <td>0.0</td>\n",
       "      <td>0.0</td>\n",
       "    </tr>\n",
       "    <tr>\n",
       "      <th>3</th>\n",
       "      <td>0.1000</td>\n",
       "      <td>0.1</td>\n",
       "      <td>0.3</td>\n",
       "      <td>0.3</td>\n",
       "    </tr>\n",
       "    <tr>\n",
       "      <th>4</th>\n",
       "      <td>0.0167</td>\n",
       "      <td>0.1</td>\n",
       "      <td>0.0</td>\n",
       "      <td>0.0</td>\n",
       "    </tr>\n",
       "    <tr>\n",
       "      <th>5</th>\n",
       "      <td>0.0100</td>\n",
       "      <td>0.1</td>\n",
       "      <td>0.0</td>\n",
       "      <td>0.0</td>\n",
       "    </tr>\n",
       "    <tr>\n",
       "      <th>6</th>\n",
       "      <td>0.1000</td>\n",
       "      <td>0.1</td>\n",
       "      <td>0.1</td>\n",
       "      <td>0.1</td>\n",
       "    </tr>\n",
       "    <tr>\n",
       "      <th>7</th>\n",
       "      <td>0.0167</td>\n",
       "      <td>0.1</td>\n",
       "      <td>0.0</td>\n",
       "      <td>0.0</td>\n",
       "    </tr>\n",
       "    <tr>\n",
       "      <th>8</th>\n",
       "      <td>0.0167</td>\n",
       "      <td>0.1</td>\n",
       "      <td>0.0</td>\n",
       "      <td>0.0</td>\n",
       "    </tr>\n",
       "    <tr>\n",
       "      <th>9</th>\n",
       "      <td>0.0100</td>\n",
       "      <td>0.1</td>\n",
       "      <td>0.0</td>\n",
       "      <td>0.0</td>\n",
       "    </tr>\n",
       "    <tr>\n",
       "      <th>10</th>\n",
       "      <td>0.0333</td>\n",
       "      <td>0.1</td>\n",
       "      <td>0.0</td>\n",
       "      <td>0.0</td>\n",
       "    </tr>\n",
       "  </tbody>\n",
       "</table>\n",
       "</div>"
      ],
      "text/plain": [
       "      Di_C  Di_D  Prestige_D  Prestige_Nachbar\n",
       "0   0.2667   0.1         0.3               0.3\n",
       "1   0.5333   0.1         0.4               0.4\n",
       "2   0.0100   0.1         0.0               0.0\n",
       "3   0.1000   0.1         0.3               0.3\n",
       "4   0.0167   0.1         0.0               0.0\n",
       "5   0.0100   0.1         0.0               0.0\n",
       "6   0.1000   0.1         0.1               0.1\n",
       "7   0.0167   0.1         0.0               0.0\n",
       "8   0.0167   0.1         0.0               0.0\n",
       "9   0.0100   0.1         0.0               0.0\n",
       "10  0.0333   0.1         0.0               0.0"
      ]
     },
     "execution_count": 47,
     "metadata": {},
     "output_type": "execute_result"
    }
   ],
   "source": [
    "rel12_df = pd.DataFrame({'Prestige_D': prest_degree_rel12,\n",
    "                      'Di_D': di_degree_rel12,\n",
    "                      'Prestige_Nachbar': prest_nachbar_rel12,\n",
    "                      'Di_C': di_closeness_rel12})\n",
    "\n",
    "rel12_df\n",
    "# 1 und damit der p.minister ist der zentralste Knoten"
   ]
  },
  {
   "cell_type": "code",
   "execution_count": 48,
   "metadata": {},
   "outputs": [
    {
     "name": "stdout",
     "output_type": "stream",
     "text": [
      "Gruppendegree gerichteter Graph: 0.0\n",
      "Gruppen Nachbarschafts Prestige: 0.1\n"
     ]
    }
   ],
   "source": [
    "## Zentralitätsmaße Relation 22\n",
    "# Akteursbezogen\n",
    "prest_degree_rel22 = prestige_degree(rel22, len(rel22.nodes()))\n",
    "prest_nachbar_rel22 = nachbarschaft(rel22, len(rel22.nodes()))\n",
    "di_degree_rel22 = degree_digraph(rel22, len(rel22.nodes()))\n",
    "\n",
    "# Standartisierte Closeness C*_C \n",
    "# Standartisierte Closeness C*_C\n",
    "V = len(rel22.nodes())\n",
    "adj = [[] for i in range(V + 1)]\n",
    "visited = [0 for i in range(V + 1)]\n",
    "addEdge(rel22.edges())\n",
    "arr = list(rel22.nodes())\n",
    "n = len(arr)\n",
    "J = findReachableNodes(arr, n)\n",
    "\n",
    "std_close_di = dict()\n",
    "for i in rel22.nodes():\n",
    "    di = nx.single_source_shortest_path_length(rel1, i)\n",
    "    sum_di = sum(di.values())\n",
    "    j = list(J.values())\n",
    "    j_i = len(j[i])\n",
    "    if ((sum_di)/j_i) != 0:\n",
    "        std_c = round(((j_i/(len(rel22.nodes())-1))/((sum_di)/j_i)),4)\n",
    "    else:\n",
    "        std_c = 0\n",
    "    std_close_di.update({i:std_c})\n",
    "\n",
    "di_closeness_rel22 = std_close_di\n",
    "\n",
    "# Gruppenbezogen\n",
    "print(\"Gruppendegree gerichteter Graph:\", group_degree_digraph(rel22, len(rel22.nodes())))\n",
    "print(\"Gruppen Nachbarschafts Prestige:\", group_nachbarschaft(rel22, len(rel22.nodes())))"
   ]
  },
  {
   "cell_type": "code",
   "execution_count": 49,
   "metadata": {},
   "outputs": [
    {
     "data": {
      "text/html": [
       "<div>\n",
       "<style>\n",
       "    .dataframe thead tr:only-child th {\n",
       "        text-align: right;\n",
       "    }\n",
       "\n",
       "    .dataframe thead th {\n",
       "        text-align: left;\n",
       "    }\n",
       "\n",
       "    .dataframe tbody tr th {\n",
       "        vertical-align: top;\n",
       "    }\n",
       "</style>\n",
       "<table border=\"1\" class=\"dataframe\">\n",
       "  <thead>\n",
       "    <tr style=\"text-align: right;\">\n",
       "      <th></th>\n",
       "      <th>Di_C</th>\n",
       "      <th>Di_D</th>\n",
       "      <th>Prestige_D</th>\n",
       "      <th>Prestige_Nachbar</th>\n",
       "    </tr>\n",
       "  </thead>\n",
       "  <tbody>\n",
       "    <tr>\n",
       "      <th>0</th>\n",
       "      <td>0.1333</td>\n",
       "      <td>0.1</td>\n",
       "      <td>0.6</td>\n",
       "      <td>0.6</td>\n",
       "    </tr>\n",
       "    <tr>\n",
       "      <th>1</th>\n",
       "      <td>0.4000</td>\n",
       "      <td>0.1</td>\n",
       "      <td>0.2</td>\n",
       "      <td>0.2</td>\n",
       "    </tr>\n",
       "    <tr>\n",
       "      <th>2</th>\n",
       "      <td>0.0167</td>\n",
       "      <td>0.1</td>\n",
       "      <td>0.1</td>\n",
       "      <td>0.1</td>\n",
       "    </tr>\n",
       "    <tr>\n",
       "      <th>3</th>\n",
       "      <td>0.1000</td>\n",
       "      <td>0.1</td>\n",
       "      <td>0.0</td>\n",
       "      <td>0.0</td>\n",
       "    </tr>\n",
       "    <tr>\n",
       "      <th>4</th>\n",
       "      <td>0.0333</td>\n",
       "      <td>0.1</td>\n",
       "      <td>0.0</td>\n",
       "      <td>0.0</td>\n",
       "    </tr>\n",
       "    <tr>\n",
       "      <th>5</th>\n",
       "      <td>0.0333</td>\n",
       "      <td>0.1</td>\n",
       "      <td>0.0</td>\n",
       "      <td>0.0</td>\n",
       "    </tr>\n",
       "    <tr>\n",
       "      <th>6</th>\n",
       "      <td>0.0333</td>\n",
       "      <td>0.1</td>\n",
       "      <td>0.2</td>\n",
       "      <td>0.2</td>\n",
       "    </tr>\n",
       "    <tr>\n",
       "      <th>7</th>\n",
       "      <td>0.0333</td>\n",
       "      <td>0.1</td>\n",
       "      <td>0.0</td>\n",
       "      <td>0.0</td>\n",
       "    </tr>\n",
       "    <tr>\n",
       "      <th>8</th>\n",
       "      <td>0.0167</td>\n",
       "      <td>0.1</td>\n",
       "      <td>0.0</td>\n",
       "      <td>0.0</td>\n",
       "    </tr>\n",
       "    <tr>\n",
       "      <th>9</th>\n",
       "      <td>0.0167</td>\n",
       "      <td>0.1</td>\n",
       "      <td>0.0</td>\n",
       "      <td>0.0</td>\n",
       "    </tr>\n",
       "    <tr>\n",
       "      <th>10</th>\n",
       "      <td>0.0100</td>\n",
       "      <td>0.1</td>\n",
       "      <td>0.0</td>\n",
       "      <td>0.0</td>\n",
       "    </tr>\n",
       "  </tbody>\n",
       "</table>\n",
       "</div>"
      ],
      "text/plain": [
       "      Di_C  Di_D  Prestige_D  Prestige_Nachbar\n",
       "0   0.1333   0.1         0.6               0.6\n",
       "1   0.4000   0.1         0.2               0.2\n",
       "2   0.0167   0.1         0.1               0.1\n",
       "3   0.1000   0.1         0.0               0.0\n",
       "4   0.0333   0.1         0.0               0.0\n",
       "5   0.0333   0.1         0.0               0.0\n",
       "6   0.0333   0.1         0.2               0.2\n",
       "7   0.0333   0.1         0.0               0.0\n",
       "8   0.0167   0.1         0.0               0.0\n",
       "9   0.0167   0.1         0.0               0.0\n",
       "10  0.0100   0.1         0.0               0.0"
      ]
     },
     "execution_count": 49,
     "metadata": {},
     "output_type": "execute_result"
    }
   ],
   "source": [
    "rel22_df = pd.DataFrame({'Prestige_D': prest_degree_rel22,\n",
    "                      'Di_D': di_degree_rel22,\n",
    "                      'Prestige_Nachbar': prest_nachbar_rel22,\n",
    "                      'Di_C': di_closeness_rel22})\n",
    "\n",
    "rel22_df\n",
    "# Prestige hat am meisten der Minister, Zentralität der Prime Minister"
   ]
  }
 ],
 "metadata": {
  "kernelspec": {
   "display_name": "Python 3",
   "language": "python",
   "name": "python3"
  },
  "language_info": {
   "codemirror_mode": {
    "name": "ipython",
    "version": 3
   },
   "file_extension": ".py",
   "mimetype": "text/x-python",
   "name": "python",
   "nbconvert_exporter": "python",
   "pygments_lexer": "ipython3",
   "version": "3.6.3"
  }
 },
 "nbformat": 4,
 "nbformat_minor": 2
}
